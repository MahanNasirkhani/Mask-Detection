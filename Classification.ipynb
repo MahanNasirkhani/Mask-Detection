{
  "nbformat": 4,
  "nbformat_minor": 0,
  "metadata": {
    "colab": {
      "provenance": [],
      "gpuType": "T4",
      "authorship_tag": "ABX9TyP7IHmDhpl4ndcR4FpwJQgS",
      "include_colab_link": true
    },
    "kernelspec": {
      "name": "python3",
      "display_name": "Python 3"
    },
    "language_info": {
      "name": "python"
    },
    "accelerator": "GPU"
  },
  "cells": [
    {
      "cell_type": "markdown",
      "metadata": {
        "id": "view-in-github",
        "colab_type": "text"
      },
      "source": [
        "<a href=\"https://colab.research.google.com/github/MahanNasirkhani/Mask-Detection/blob/main/Classification.ipynb\" target=\"_parent\"><img src=\"https://colab.research.google.com/assets/colab-badge.svg\" alt=\"Open In Colab\"/></a>"
      ]
    },
    {
      "cell_type": "code",
      "execution_count": 1,
      "metadata": {
        "id": "7Tbq7uTNn9Nr",
        "colab": {
          "base_uri": "https://localhost:8080/"
        },
        "outputId": "a8d96918-7296-4da9-8323-fe2e92a870ad"
      },
      "outputs": [
        {
          "output_type": "stream",
          "name": "stdout",
          "text": [
            "Mounted at /content/drive\n"
          ]
        }
      ],
      "source": [
        "from google.colab import drive\n",
        "drive.mount('/content/drive')"
      ]
    },
    {
      "cell_type": "code",
      "source": [
        "import numpy as np\n",
        "import matplotlib.pyplot as plt\n",
        "import cv2\n",
        "import tensorflow as tf\n",
        "from tensorflow import keras\n",
        "from keras import models\n",
        "from keras import layers\n",
        "from keras import optimizers\n",
        "from keras.applications import VGG16"
      ],
      "metadata": {
        "id": "ipWx97WG1GAK"
      },
      "execution_count": 2,
      "outputs": []
    },
    {
      "cell_type": "markdown",
      "source": [
        "# Load Dateset"
      ],
      "metadata": {
        "id": "Ap6IgWxPJhBy"
      }
    },
    {
      "cell_type": "markdown",
      "source": [],
      "metadata": {
        "id": "PfRPoe4RJVJm"
      }
    },
    {
      "cell_type": "code",
      "source": [
        "train_dir = '/content/drive/MyDrive/Mask Dataset/Train'\n",
        "test_dir = '/content/drive/MyDrive/Mask Dataset/Test'"
      ],
      "metadata": {
        "id": "p48vh4GqoHx9"
      },
      "execution_count": 3,
      "outputs": []
    },
    {
      "cell_type": "code",
      "source": [
        "batch_size = 32\n",
        "img_height = 100\n",
        "img_width = 100"
      ],
      "metadata": {
        "id": "k4oDcwGV4UZ2"
      },
      "execution_count": 4,
      "outputs": []
    },
    {
      "cell_type": "code",
      "source": [
        "train_ds = tf.keras.utils.image_dataset_from_directory(\n",
        "  train_dir,\n",
        "  validation_split=0.2,\n",
        "  subset=\"training\",\n",
        "  shuffle=True,\n",
        "  seed=123,\n",
        "  image_size=(img_height, img_width),\n",
        "  batch_size=batch_size)\n",
        "\n",
        "val_ds = tf.keras.utils.image_dataset_from_directory(\n",
        "  train_dir,\n",
        "  validation_split=0.2,\n",
        "  subset=\"validation\",\n",
        "  shuffle=True,\n",
        "  seed=123,\n",
        "  image_size=(img_height, img_width),\n",
        "  batch_size=batch_size)\n",
        "\n",
        "test_ds = tf.keras.utils.image_dataset_from_directory(\n",
        "  test_dir,\n",
        "  shuffle=True,\n",
        "  seed=123,\n",
        "  image_size=(img_height, img_width),\n",
        "  batch_size=batch_size)"
      ],
      "metadata": {
        "id": "0LQgRiSU4ZjV",
        "colab": {
          "base_uri": "https://localhost:8080/"
        },
        "outputId": "c8a76eee-b9ac-44b4-e5fb-fddfb8cc10c4"
      },
      "execution_count": 30,
      "outputs": [
        {
          "output_type": "stream",
          "name": "stdout",
          "text": [
            "Found 4926 files belonging to 2 classes.\n",
            "Using 3941 files for training.\n",
            "Found 4926 files belonging to 2 classes.\n",
            "Using 985 files for validation.\n",
            "Found 1026 files belonging to 2 classes.\n"
          ]
        }
      ]
    },
    {
      "cell_type": "code",
      "source": [
        "AUTOTUNE = tf.data.AUTOTUNE\n",
        "\n",
        "train_ds = train_ds.cache().shuffle(1000).prefetch(buffer_size=AUTOTUNE)\n",
        "val_ds = val_ds.cache().prefetch(buffer_size=AUTOTUNE)\n",
        "test_ds_1 = test_ds.cache().prefetch(buffer_size=AUTOTUNE)"
      ],
      "metadata": {
        "id": "uUhtUzEU4ySC"
      },
      "execution_count": 31,
      "outputs": []
    },
    {
      "cell_type": "markdown",
      "source": [
        "# Augmentation layers"
      ],
      "metadata": {
        "id": "5vC365sfJlZv"
      }
    },
    {
      "cell_type": "code",
      "source": [
        "data_augmentation = keras.Sequential(\n",
        "  [\n",
        "    layers.RandomFlip(\"horizontal_and_vertical\",input_shape=(img_height, img_width, 3)),\n",
        "    layers.RandomRotation(0.1),\n",
        "    layers.RandomZoom(0.1),\n",
        "    layers.RandomTranslation(height_factor = 0.1, width_factor = 0.1 , fill_value=0.1),\n",
        "    layers.RandomContrast(factor = 0.1),\n",
        "    layers.RandomBrightness(factor = 0.1)\n",
        "  ]\n",
        ")"
      ],
      "metadata": {
        "id": "mUoI-g6J6u9n"
      },
      "execution_count": 56,
      "outputs": []
    },
    {
      "cell_type": "markdown",
      "source": [
        "# VGG16 model and layers"
      ],
      "metadata": {
        "id": "7uhG0E25OzTs"
      }
    },
    {
      "cell_type": "code",
      "source": [
        "conv_base = VGG16(weights='imagenet',\n",
        "                  include_top=False,\n",
        "                  input_shape=(100, 100, 3))"
      ],
      "metadata": {
        "id": "a4H_63ps5uRg"
      },
      "execution_count": 57,
      "outputs": []
    },
    {
      "cell_type": "code",
      "source": [
        "conv_base.trainable = True\n",
        "\n",
        "set_trainable = False\n",
        "for layer in conv_base.layers:\n",
        "    if layer.name == 'block5_conv1':\n",
        "        set_trainable = True\n",
        "    if layer.name == 'block4_conv1':\n",
        "        set_trainable = True\n",
        "    if set_trainable:\n",
        "        layer.trainable = True\n",
        "    else:\n",
        "        layer.trainable = False"
      ],
      "metadata": {
        "id": "MIr-0Oos53GN"
      },
      "execution_count": 58,
      "outputs": []
    },
    {
      "cell_type": "markdown",
      "source": [
        "# Model"
      ],
      "metadata": {
        "id": "cGXQWTfUO3zu"
      }
    },
    {
      "cell_type": "code",
      "source": [
        "model = models.Sequential()\n",
        "model.add(data_augmentation)\n",
        "model.add(layers.Rescaling(1./255))\n",
        "model.add(conv_base)\n",
        "model.add(layers.Flatten())\n",
        "model.add(layers.Dense(128, activation='relu'))\n",
        "model.add(layers.Dropout(0.4))\n",
        "model.add(layers.Dense(1, activation='sigmoid'))"
      ],
      "metadata": {
        "id": "DsBgH5gE56h0"
      },
      "execution_count": 59,
      "outputs": []
    },
    {
      "cell_type": "code",
      "source": [
        "model.summary()"
      ],
      "metadata": {
        "id": "L-7_sTp36EcP",
        "colab": {
          "base_uri": "https://localhost:8080/"
        },
        "outputId": "5277a2e2-7baa-4c6e-e15f-8fdc75ce1643"
      },
      "execution_count": 60,
      "outputs": [
        {
          "output_type": "stream",
          "name": "stdout",
          "text": [
            "Model: \"sequential_7\"\n",
            "_________________________________________________________________\n",
            " Layer (type)                Output Shape              Param #   \n",
            "=================================================================\n",
            " sequential_6 (Sequential)   (None, 100, 100, 3)       0         \n",
            "                                                                 \n",
            " rescaling_3 (Rescaling)     (None, 100, 100, 3)       0         \n",
            "                                                                 \n",
            " vgg16 (Functional)          (None, 3, 3, 512)         14714688  \n",
            "                                                                 \n",
            " flatten_3 (Flatten)         (None, 4608)              0         \n",
            "                                                                 \n",
            " dense_6 (Dense)             (None, 128)               589952    \n",
            "                                                                 \n",
            " dropout_3 (Dropout)         (None, 128)               0         \n",
            "                                                                 \n",
            " dense_7 (Dense)             (None, 1)                 129       \n",
            "                                                                 \n",
            "=================================================================\n",
            "Total params: 15,304,769\n",
            "Trainable params: 13,569,281\n",
            "Non-trainable params: 1,735,488\n",
            "_________________________________________________________________\n"
          ]
        }
      ]
    },
    {
      "cell_type": "code",
      "source": [
        "model.compile(loss='binary_crossentropy',\n",
        "              optimizer=optimizers.RMSprop(learning_rate = 2e-5),\n",
        "              metrics=['accuracy'])"
      ],
      "metadata": {
        "id": "UGNGdS7Y6Fxb"
      },
      "execution_count": 61,
      "outputs": []
    },
    {
      "cell_type": "markdown",
      "source": [
        "# Training"
      ],
      "metadata": {
        "id": "aKr4SjTQO7Xp"
      }
    },
    {
      "cell_type": "code",
      "source": [
        "from keras.callbacks import ModelCheckpoint\n",
        "\n",
        "checkpoint = ModelCheckpoint('best_model.h5', save_best_only=True, monitor='val_loss', mode='min')"
      ],
      "metadata": {
        "id": "_gExdDLsg0Fs"
      },
      "execution_count": 62,
      "outputs": []
    },
    {
      "cell_type": "code",
      "source": [
        "epochs = 10\n",
        "history = model.fit(train_ds, validation_data=val_ds, epochs=epochs, callbacks=[checkpoint])"
      ],
      "metadata": {
        "id": "nVe-Toz46HIs",
        "colab": {
          "base_uri": "https://localhost:8080/"
        },
        "outputId": "eca2390b-1d7c-435a-e16f-0f2cc7949f43"
      },
      "execution_count": 63,
      "outputs": [
        {
          "output_type": "stream",
          "name": "stdout",
          "text": [
            "Epoch 1/10\n",
            "124/124 [==============================] - 11s 78ms/step - loss: 0.1584 - accuracy: 0.9355 - val_loss: 0.0609 - val_accuracy: 0.9827\n",
            "Epoch 2/10\n",
            "124/124 [==============================] - 9s 74ms/step - loss: 0.0574 - accuracy: 0.9789 - val_loss: 0.0625 - val_accuracy: 0.9858\n",
            "Epoch 3/10\n",
            "124/124 [==============================] - 9s 77ms/step - loss: 0.0498 - accuracy: 0.9843 - val_loss: 0.0521 - val_accuracy: 0.9878\n",
            "Epoch 4/10\n",
            "124/124 [==============================] - 9s 76ms/step - loss: 0.0337 - accuracy: 0.9904 - val_loss: 0.0565 - val_accuracy: 0.9878\n",
            "Epoch 5/10\n",
            "124/124 [==============================] - 10s 81ms/step - loss: 0.0399 - accuracy: 0.9896 - val_loss: 0.0746 - val_accuracy: 0.9848\n",
            "Epoch 6/10\n",
            "124/124 [==============================] - 10s 77ms/step - loss: 0.0268 - accuracy: 0.9906 - val_loss: 0.0445 - val_accuracy: 0.9929\n",
            "Epoch 7/10\n",
            "124/124 [==============================] - 10s 78ms/step - loss: 0.0245 - accuracy: 0.9919 - val_loss: 0.0508 - val_accuracy: 0.9929\n",
            "Epoch 8/10\n",
            "124/124 [==============================] - 9s 75ms/step - loss: 0.0269 - accuracy: 0.9899 - val_loss: 0.0487 - val_accuracy: 0.9898\n",
            "Epoch 9/10\n",
            "124/124 [==============================] - 9s 72ms/step - loss: 0.0247 - accuracy: 0.9934 - val_loss: 0.0633 - val_accuracy: 0.9888\n",
            "Epoch 10/10\n",
            "124/124 [==============================] - 9s 74ms/step - loss: 0.0152 - accuracy: 0.9957 - val_loss: 0.0602 - val_accuracy: 0.9888\n"
          ]
        }
      ]
    },
    {
      "cell_type": "markdown",
      "source": [
        "# Plotting accuracy and loss"
      ],
      "metadata": {
        "id": "bI_S6WK1O_Wg"
      }
    },
    {
      "cell_type": "code",
      "source": [
        "acc = history.history['accuracy']\n",
        "val_acc = history.history['val_accuracy']\n",
        "\n",
        "loss = history.history['loss']\n",
        "val_loss = history.history['val_loss']\n",
        "\n",
        "epochs_range = range(epochs)\n",
        "\n",
        "plt.figure(figsize=(8, 8))\n",
        "plt.subplot(1, 2, 1)\n",
        "plt.plot(epochs_range, acc, label='Training Accuracy')\n",
        "plt.plot(epochs_range, val_acc, label='Validation Accuracy')\n",
        "plt.legend(loc='lower right')\n",
        "plt.title('Training and Validation Accuracy')\n",
        "\n",
        "plt.subplot(1, 2, 2)\n",
        "plt.plot(epochs_range, loss, label='Training Loss')\n",
        "plt.plot(epochs_range, val_loss, label='Validation Loss')\n",
        "plt.legend(loc='upper right')\n",
        "plt.title('Training and Validation Loss')\n",
        "plt.show()"
      ],
      "metadata": {
        "id": "yFsMhK0s6bm8",
        "colab": {
          "base_uri": "https://localhost:8080/",
          "height": 699
        },
        "outputId": "8f5598a8-87d2-452d-ecbb-3a3273517afa"
      },
      "execution_count": 64,
      "outputs": [
        {
          "output_type": "display_data",
          "data": {
            "text/plain": [
              "<Figure size 800x800 with 2 Axes>"
            ],
            "image/png": "[encoded data removed]"
          },
          "metadata": {}
        }
      ]
    },
    {
      "cell_type": "markdown",
      "source": [
        "# Testing the model"
      ],
      "metadata": {
        "id": "5NfkoNvkPEYh"
      }
    },
    {
      "cell_type": "code",
      "source": [
        "from keras.models import load_model\n",
        "\n",
        "best_model = load_model('best_model.h5')"
      ],
      "metadata": {
        "id": "rYDuJ-5Fg9mx"
      },
      "execution_count": 65,
      "outputs": []
    },
    {
      "cell_type": "code",
      "source": [
        "loss, acc = best_model.evaluate(test_ds_1)\n",
        "print('\\nTesting loss: %.2f, acc: %.2f%%'%(loss, acc))"
      ],
      "metadata": {
        "id": "TUvaW0cl6cNw",
        "colab": {
          "base_uri": "https://localhost:8080/"
        },
        "outputId": "43447ded-4d18-4dca-b989-adcdef8a2880"
      },
      "execution_count": 66,
      "outputs": [
        {
          "output_type": "stream",
          "name": "stdout",
          "text": [
            "33/33 [==============================] - 1s 33ms/step - loss: 0.1838 - accuracy: 0.9522\n",
            "\n",
            "Testing loss: 0.18, acc: 0.95%\n"
          ]
        }
      ]
    }
  ]
}